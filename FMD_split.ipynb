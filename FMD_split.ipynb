{
 "cells": [
  {
   "cell_type": "markdown",
   "metadata": {},
   "source": [
    "# Split FMD into train, test set"
   ]
  },
  {
   "cell_type": "code",
   "execution_count": null,
   "metadata": {},
   "outputs": [],
   "source": [
    "import os\n",
    "import sys\n",
    "from shutil import copyfile"
   ]
  },
  {
   "cell_type": "code",
   "execution_count": null,
   "metadata": {},
   "outputs": [],
   "source": [
    "# Parse arguments\n",
    "dataset = 'FMD'\n",
    "split = 5"
   ]
  },
  {
   "cell_type": "code",
   "execution_count": null,
   "metadata": {},
   "outputs": [],
   "source": [
    "train_split_dir = \"./DS_{}/splits/train_split_{}.txt\".format(dataset, split)\n",
    "test_split_dir = \"./DS_{}/splits/test_split_{}.txt\".format(dataset, split)\n",
    "\n",
    "train_folder = './DS_{}/data/split_{}/train'.format(dataset, split) \n",
    "test_folder = './DS_{}/data/split_{}/test'.format(dataset, split) \n",
    "\n",
    "# Create train and test folder\n",
    "if not os.path.exists(train_folder):\n",
    "    os.makedirs(train_folder)\n",
    "if not os.path.exists(test_folder):\n",
    "    os.makedirs(test_folder)"
   ]
  },
  {
   "cell_type": "code",
   "execution_count": null,
   "metadata": {},
   "outputs": [],
   "source": [
    "# Split train images\n",
    "with open(train_split_dir) as f:\n",
    "    content = f.readlines()\n",
    "content = [x.strip() for x in content]\n",
    "for line in content:\n",
    "    if line == \"\":\n",
    "        continue\n",
    "    src_path = line.split()[0]\n",
    "    print(src_path)\n",
    "    class_name = src_path.split('/')[4]\n",
    "    print(class_name)\n",
    "    file_name = src_path.split('/')[5]\n",
    "    dst_path = \"{}/{}/{}\".format(train_folder, class_name, file_name)\n",
    "    class_folder = \"{}/{}\".format(train_folder, class_name)\n",
    "    if not os.path.exists(class_folder):\n",
    "        os.makedirs(class_folder)\n",
    "    if not os.path.exists(dst_path):\n",
    "        copyfile(src_path, dst_path)\n",
    "    print(dst_path)"
   ]
  },
  {
   "cell_type": "code",
   "execution_count": null,
   "metadata": {},
   "outputs": [],
   "source": [
    "# Split test images\n",
    "with open(test_split_dir) as f:\n",
    "    content = f.readlines()\n",
    "content = [x.strip() for x in content]\n",
    "for line in content:\n",
    "    if line == \"\":\n",
    "        continue\n",
    "    src_path = line.split()[0]\n",
    "    print(src_path)\n",
    "    class_name = src_path.split('/')[4]\n",
    "    file_name = src_path.split('/')[5]\n",
    "    dst_path = \"{}/{}/{}\".format(test_folder, class_name, file_name)\n",
    "    class_folder = \"{}/{}\".format(test_folder, class_name)\n",
    "    if not os.path.exists(class_folder):\n",
    "        os.makedirs(class_folder)\n",
    "    if not os.path.exists(dst_path):\n",
    "        copyfile(src_path, dst_path)\n",
    "    print(dst_path)"
   ]
  }
 ],
 "metadata": {
  "kernelspec": {
   "display_name": "Python 3",
   "language": "python",
   "name": "python3"
  },
  "language_info": {
   "codemirror_mode": {
    "name": "ipython",
    "version": 3
   },
   "file_extension": ".py",
   "mimetype": "text/x-python",
   "name": "python",
   "nbconvert_exporter": "python",
   "pygments_lexer": "ipython3",
   "version": "3.8.5"
  }
 },
 "nbformat": 4,
 "nbformat_minor": 4
}
