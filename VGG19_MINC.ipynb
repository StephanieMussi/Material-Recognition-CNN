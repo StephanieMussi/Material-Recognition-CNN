{
 "cells": [
  {
   "cell_type": "markdown",
   "metadata": {},
   "source": [
    "## VGG19 model on Materials in Context Database"
   ]
  },
  {
   "cell_type": "code",
   "execution_count": 1,
   "metadata": {
    "executionInfo": {
     "elapsed": 3744,
     "status": "ok",
     "timestamp": 1605781211948,
     "user": {
      "displayName": "Mu Siyi",
      "photoUrl": "https://lh3.googleusercontent.com/a-/AOh14Gj8QgmJnhwClZ56sAt7RQhY0GcJe4BfDK1dGxf4ZQ=s64",
      "userId": "04695566065545999051"
     },
     "user_tz": -480
    },
    "id": "Jh5rMce16glR"
   },
   "outputs": [],
   "source": [
    "import keras\n",
    "import matplotlib.pyplot as plt\n",
    "from keras.preprocessing import image\n",
    "from keras.callbacks import TensorBoard, ModelCheckpoint\n",
    "import time\n",
    "import os\n",
    "import tensorflow as tf\n",
    "from keras.applications.resnet50 import ResNet50\n",
    "from keras.preprocessing import image\n",
    "from keras.models import Model, load_model\n",
    "from keras.layers import Dense, Flatten, Activation, Input, Dropout, BatchNormalization\n",
    "from tensorflow.keras.applications.resnet50 import preprocess_input\n",
    "from tensorflow.keras import regularizers"
   ]
  },
  {
   "cell_type": "code",
   "execution_count": 2,
   "metadata": {
    "colab": {
     "base_uri": "https://localhost:8080/"
    },
    "executionInfo": {
     "elapsed": 8707,
     "status": "ok",
     "timestamp": 1605781216928,
     "user": {
      "displayName": "Mu Siyi",
      "photoUrl": "https://lh3.googleusercontent.com/a-/AOh14Gj8QgmJnhwClZ56sAt7RQhY0GcJe4BfDK1dGxf4ZQ=s64",
      "userId": "04695566065545999051"
     },
     "user_tz": -480
    },
    "id": "tANXCRge7DJW",
    "outputId": "46cca321-9715-4fb7-8127-f8f7e4291979"
   },
   "outputs": [
    {
     "name": "stdout",
     "output_type": "stream",
     "text": [
      "1 Physical GPUs, 1 Logical GPUs\n"
     ]
    }
   ],
   "source": [
    "gpus = tf.config.experimental.list_physical_devices('GPU')\n",
    "if gpus:\n",
    "    try:\n",
    "        # Currently, memory growth needs to be the same across GPUs\n",
    "        for gpu in gpus:\n",
    "            tf.config.experimental.set_memory_growth(gpu, True)\n",
    "        logical_gpus = tf.config.experimental.list_logical_devices('GPU')\n",
    "        print(len(gpus), \"Physical GPUs,\", len(logical_gpus), \"Logical GPUs\")\n",
    "    except RuntimeError as e:\n",
    "        # Memory growth must be set before GPUs have been initialized\n",
    "        print(e)"
   ]
  },
  {
   "cell_type": "markdown",
   "metadata": {},
   "source": [
    "## Read data\n",
    "Read the pre-split train data, test data and validation data"
   ]
  },
  {
   "cell_type": "code",
   "execution_count": 4,
   "metadata": {
    "executionInfo": {
     "elapsed": 55187,
     "status": "ok",
     "timestamp": 1605781263414,
     "user": {
      "displayName": "Mu Siyi",
      "photoUrl": "https://lh3.googleusercontent.com/a-/AOh14Gj8QgmJnhwClZ56sAt7RQhY0GcJe4BfDK1dGxf4ZQ=s64",
      "userId": "04695566065545999051"
     },
     "user_tz": -480
    },
    "id": "cLxwFNiY7FU7"
   },
   "outputs": [],
   "source": [
    "dataset = 'minc'\n",
    "split = 5 #1\n",
    "n_classes = 23\n",
    "train_dir = 'minc-2500/train'.format(dataset, split)\n",
    "validate_dir = 'minc-2500/validate'.format(dataset, split)\n",
    "test_dir = 'minc-2500/test'.format(dataset, split)"
   ]
  },
  {
   "cell_type": "code",
   "execution_count": 5,
   "metadata": {
    "colab": {
     "base_uri": "https://localhost:8080/"
    },
    "executionInfo": {
     "elapsed": 186230,
     "status": "ok",
     "timestamp": 1605781394461,
     "user": {
      "displayName": "Mu Siyi",
      "photoUrl": "https://lh3.googleusercontent.com/a-/AOh14Gj8QgmJnhwClZ56sAt7RQhY0GcJe4BfDK1dGxf4ZQ=s64",
      "userId": "04695566065545999051"
     },
     "user_tz": -480
    },
    "id": "2l4iCPLX7HQv",
    "outputId": "505dd771-4245-4cb1-8c3a-b4b878c43593"
   },
   "outputs": [
    {
     "name": "stdout",
     "output_type": "stream",
     "text": [
      "Found 48875 images belonging to 23 classes.\n",
      "Found 2875 images belonging to 23 classes.\n",
      "Found 5760 images belonging to 23 classes.\n"
     ]
    }
   ],
   "source": [
    "# Read data\n",
    "############ Do some random image transformations to increase the number of training samples\n",
    "############ Note that we are scaling the image to make all the values between 0 and 1. That's how our pretrained weights have been done too\n",
    "############ Default batch size is 1 but you can reduce/increase it depending on how powerful your machine is. \n",
    "batch_size = 20 #32\n",
    "img_width = 224\n",
    "img_height = 224\n",
    "\n",
    "train_datagen = image.ImageDataGenerator(\n",
    "    shear_range=0.2,\n",
    "    zoom_range=0.2,\n",
    "    horizontal_flip=True,\n",
    "    preprocessing_function=preprocess_input)\n",
    "\n",
    "validate_datagen = image.ImageDataGenerator(preprocessing_function=preprocess_input)\n",
    "\n",
    "test_datagen = image.ImageDataGenerator(preprocessing_function=preprocess_input)\n",
    "\n",
    "train_generator = train_datagen.flow_from_directory(\n",
    "    train_dir,\n",
    "    target_size=(img_width, img_height),\n",
    "    batch_size=batch_size,\n",
    "    class_mode='categorical')\n",
    "\n",
    "validation_generator = validate_datagen.flow_from_directory(\n",
    "    validate_dir,\n",
    "    target_size=(img_width, img_height),\n",
    "    batch_size=batch_size,\n",
    "    class_mode='categorical')\n",
    "\n",
    "test_generator = test_datagen.flow_from_directory(\n",
    "    test_dir,\n",
    "    target_size=(img_width, img_height),\n",
    "    batch_size=batch_size,\n",
    "    class_mode='categorical')\n"
   ]
  },
  {
   "cell_type": "markdown",
   "metadata": {},
   "source": [
    "## Construct the model\n",
    "Import VGG19 model, remove the pre-trained output layer, and add on the output layer to fit the MINC dataset."
   ]
  },
  {
   "cell_type": "code",
   "execution_count": 6,
   "metadata": {
    "colab": {
     "base_uri": "https://localhost:8080/"
    },
    "executionInfo": {
     "elapsed": 189912,
     "status": "ok",
     "timestamp": 1605781398147,
     "user": {
      "displayName": "Mu Siyi",
      "photoUrl": "https://lh3.googleusercontent.com/a-/AOh14Gj8QgmJnhwClZ56sAt7RQhY0GcJe4BfDK1dGxf4ZQ=s64",
      "userId": "04695566065545999051"
     },
     "user_tz": -480
    },
    "id": "jWhw8rnn7JY7",
    "outputId": "801105a0-9756-43cc-908b-69739665264f"
   },
   "outputs": [
    {
     "name": "stdout",
     "output_type": "stream",
     "text": [
      "Downloading data from https://storage.googleapis.com/tensorflow/keras-applications/vgg19/vgg19_weights_tf_dim_ordering_tf_kernels.h5\n",
      "574717952/574710816 [==============================] - 3s 0us/step\n",
      "<VGG19 model>\n"
     ]
    }
   ],
   "source": [
    "# Build Fine-tune network architecture\n",
    "# Get Image-Net pre-trained model\n",
    "vgg19_model = keras.applications.VGG19(input_tensor=Input(shape=(224, 224, 3))) #vgg19.\n",
    "print(\"<VGG19 model>\")\n",
    "model = keras.Sequential()\n",
    "# Remove 1000-classes output layer (last layer)\n",
    "name_last_layer = str(vgg19_model.layers[-1])\n",
    "\n",
    "for layer in vgg19_model.layers:\n",
    "    if str(layer) != name_last_layer:\n",
    "        model.add(layer)\n"
   ]
  },
  {
   "cell_type": "code",
   "execution_count": 7,
   "metadata": {
    "colab": {
     "base_uri": "https://localhost:8080/"
    },
    "executionInfo": {
     "elapsed": 189910,
     "status": "ok",
     "timestamp": 1605781398149,
     "user": {
      "displayName": "Mu Siyi",
      "photoUrl": "https://lh3.googleusercontent.com/a-/AOh14Gj8QgmJnhwClZ56sAt7RQhY0GcJe4BfDK1dGxf4ZQ=s64",
      "userId": "04695566065545999051"
     },
     "user_tz": -480
    },
    "id": "6HZFWVK27LKk",
    "outputId": "fe0f0dfb-40ff-45a2-990d-1091ca2fef3d"
   },
   "outputs": [
    {
     "name": "stdout",
     "output_type": "stream",
     "text": [
      "<Fine-tuned model>\n",
      "Model: \"sequential\"\n",
      "_________________________________________________________________\n",
      "Layer (type)                 Output Shape              Param #   \n",
      "=================================================================\n",
      "block1_conv1 (Conv2D)        (None, 224, 224, 64)      1792      \n",
      "_________________________________________________________________\n",
      "block1_conv2 (Conv2D)        (None, 224, 224, 64)      36928     \n",
      "_________________________________________________________________\n",
      "block1_pool (MaxPooling2D)   (None, 112, 112, 64)      0         \n",
      "_________________________________________________________________\n",
      "block2_conv1 (Conv2D)        (None, 112, 112, 128)     73856     \n",
      "_________________________________________________________________\n",
      "block2_conv2 (Conv2D)        (None, 112, 112, 128)     147584    \n",
      "_________________________________________________________________\n",
      "block2_pool (MaxPooling2D)   (None, 56, 56, 128)       0         \n",
      "_________________________________________________________________\n",
      "block3_conv1 (Conv2D)        (None, 56, 56, 256)       295168    \n",
      "_________________________________________________________________\n",
      "block3_conv2 (Conv2D)        (None, 56, 56, 256)       590080    \n",
      "_________________________________________________________________\n",
      "block3_conv3 (Conv2D)        (None, 56, 56, 256)       590080    \n",
      "_________________________________________________________________\n",
      "block3_conv4 (Conv2D)        (None, 56, 56, 256)       590080    \n",
      "_________________________________________________________________\n",
      "block3_pool (MaxPooling2D)   (None, 28, 28, 256)       0         \n",
      "_________________________________________________________________\n",
      "block4_conv1 (Conv2D)        (None, 28, 28, 512)       1180160   \n",
      "_________________________________________________________________\n",
      "block4_conv2 (Conv2D)        (None, 28, 28, 512)       2359808   \n",
      "_________________________________________________________________\n",
      "block4_conv3 (Conv2D)        (None, 28, 28, 512)       2359808   \n",
      "_________________________________________________________________\n",
      "block4_conv4 (Conv2D)        (None, 28, 28, 512)       2359808   \n",
      "_________________________________________________________________\n",
      "block4_pool (MaxPooling2D)   (None, 14, 14, 512)       0         \n",
      "_________________________________________________________________\n",
      "block5_conv1 (Conv2D)        (None, 14, 14, 512)       2359808   \n",
      "_________________________________________________________________\n",
      "block5_conv2 (Conv2D)        (None, 14, 14, 512)       2359808   \n",
      "_________________________________________________________________\n",
      "block5_conv3 (Conv2D)        (None, 14, 14, 512)       2359808   \n",
      "_________________________________________________________________\n",
      "block5_conv4 (Conv2D)        (None, 14, 14, 512)       2359808   \n",
      "_________________________________________________________________\n",
      "block5_pool (MaxPooling2D)   (None, 7, 7, 512)         0         \n",
      "_________________________________________________________________\n",
      "flatten (Flatten)            (None, 25088)             0         \n",
      "_________________________________________________________________\n",
      "fc1 (Dense)                  (None, 4096)              102764544 \n",
      "_________________________________________________________________\n",
      "fc2 (Dense)                  (None, 4096)              16781312  \n",
      "_________________________________________________________________\n",
      "batch_normalization (BatchNo (None, 4096)              16384     \n",
      "_________________________________________________________________\n",
      "dense (Dense)                (None, 23)                94231     \n",
      "=================================================================\n",
      "Total params: 139,680,855\n",
      "Trainable params: 139,672,663\n",
      "Non-trainable params: 8,192\n",
      "_________________________________________________________________\n"
     ]
    }
   ],
   "source": [
    "model.add(keras.layers.BatchNormalization())\n",
    "model.add(keras.layers.Dense(n_classes, activation='softmax', kernel_regularizer=regularizers.l2(0.01),\n",
    "          bias_regularizer=regularizers.l2(0.01)))\n",
    "\n",
    "print(\"<Fine-tuned model>\")\n",
    "model.summary()"
   ]
  },
  {
   "cell_type": "markdown",
   "metadata": {},
   "source": [
    "## Train model\n",
    "Adam optimizer with learning rate decay is employed. The model is trained for 30 epochs as it converges fast."
   ]
  },
  {
   "cell_type": "code",
   "execution_count": 8,
   "metadata": {
    "colab": {
     "base_uri": "https://localhost:8080/"
    },
    "executionInfo": {
     "elapsed": 4933080,
     "status": "ok",
     "timestamp": 1605788929798,
     "user": {
      "displayName": "Mu Siyi",
      "photoUrl": "https://lh3.googleusercontent.com/a-/AOh14Gj8QgmJnhwClZ56sAt7RQhY0GcJe4BfDK1dGxf4ZQ=s64",
      "userId": "04695566065545999051"
     },
     "user_tz": -480
    },
    "id": "d9wLsQ497Mkw",
    "outputId": "90384689-b773-482c-a979-d3a50fc20755"
   },
   "outputs": [
    {
     "name": "stdout",
     "output_type": "stream",
     "text": [
      "validationSteps: 10.0\n",
      "Epoch 1/30\n",
      "40/40 [==============================] - 369s 9s/step - loss: 4.2343 - accuracy: 0.0487 - val_loss: 4.3244 - val_accuracy: 0.0700\n",
      "Epoch 2/30\n",
      "40/40 [==============================] - 326s 8s/step - loss: 3.7107 - accuracy: 0.1300 - val_loss: 3.4241 - val_accuracy: 0.1700\n",
      "Epoch 3/30\n",
      "40/40 [==============================] - 316s 8s/step - loss: 3.2664 - accuracy: 0.2325 - val_loss: 3.4491 - val_accuracy: 0.2450\n",
      "Epoch 4/30\n",
      "40/40 [==============================] - 316s 8s/step - loss: 2.9288 - accuracy: 0.3162 - val_loss: 2.9166 - val_accuracy: 0.3150\n",
      "Epoch 5/30\n",
      "40/40 [==============================] - 309s 8s/step - loss: 2.6587 - accuracy: 0.3587 - val_loss: 2.5665 - val_accuracy: 0.4150\n",
      "Epoch 6/30\n",
      "40/40 [==============================] - 307s 8s/step - loss: 2.4759 - accuracy: 0.4300 - val_loss: 2.6724 - val_accuracy: 0.3700\n",
      "Epoch 7/30\n",
      "40/40 [==============================] - 280s 7s/step - loss: 2.3401 - accuracy: 0.4550 - val_loss: 2.5647 - val_accuracy: 0.3750\n",
      "Epoch 8/30\n",
      "40/40 [==============================] - 283s 7s/step - loss: 2.2688 - accuracy: 0.4825 - val_loss: 2.0370 - val_accuracy: 0.5450\n",
      "Epoch 9/30\n",
      "40/40 [==============================] - 277s 7s/step - loss: 2.0642 - accuracy: 0.5275 - val_loss: 2.0714 - val_accuracy: 0.5100\n",
      "Epoch 10/30\n",
      "40/40 [==============================] - 270s 7s/step - loss: 2.0275 - accuracy: 0.5587 - val_loss: 1.8795 - val_accuracy: 0.6000\n",
      "Epoch 11/30\n",
      "40/40 [==============================] - 272s 7s/step - loss: 2.0013 - accuracy: 0.5487 - val_loss: 1.9748 - val_accuracy: 0.6150\n",
      "Epoch 12/30\n",
      "40/40 [==============================] - 252s 6s/step - loss: 2.0828 - accuracy: 0.5387 - val_loss: 2.1812 - val_accuracy: 0.5050\n",
      "Epoch 13/30\n",
      "40/40 [==============================] - 239s 6s/step - loss: 1.9720 - accuracy: 0.5638 - val_loss: 2.1366 - val_accuracy: 0.5050\n",
      "Epoch 14/30\n",
      "40/40 [==============================] - 237s 6s/step - loss: 1.8574 - accuracy: 0.5800 - val_loss: 1.9190 - val_accuracy: 0.5750\n",
      "Epoch 15/30\n",
      "40/40 [==============================] - 240s 6s/step - loss: 1.8768 - accuracy: 0.5962 - val_loss: 2.0767 - val_accuracy: 0.5700\n",
      "Epoch 16/30\n",
      "40/40 [==============================] - 226s 6s/step - loss: 1.8688 - accuracy: 0.6000 - val_loss: 1.8592 - val_accuracy: 0.5750\n",
      "Epoch 17/30\n",
      "40/40 [==============================] - 212s 5s/step - loss: 1.8505 - accuracy: 0.5975 - val_loss: 1.7504 - val_accuracy: 0.6050\n",
      "Epoch 18/30\n",
      "40/40 [==============================] - 218s 5s/step - loss: 1.8103 - accuracy: 0.5938 - val_loss: 2.0575 - val_accuracy: 0.5450\n",
      "Epoch 19/30\n",
      "40/40 [==============================] - 229s 6s/step - loss: 1.7427 - accuracy: 0.6137 - val_loss: 1.8691 - val_accuracy: 0.5550\n",
      "Epoch 20/30\n",
      "40/40 [==============================] - 206s 5s/step - loss: 1.6705 - accuracy: 0.6325 - val_loss: 1.8410 - val_accuracy: 0.6150\n",
      "Epoch 21/30\n",
      "40/40 [==============================] - 192s 5s/step - loss: 1.8553 - accuracy: 0.6137 - val_loss: 1.9312 - val_accuracy: 0.5700\n",
      "Epoch 22/30\n",
      "40/40 [==============================] - 215s 5s/step - loss: 1.6215 - accuracy: 0.6475 - val_loss: 1.6211 - val_accuracy: 0.6400\n",
      "Epoch 23/30\n",
      "40/40 [==============================] - 199s 5s/step - loss: 1.7692 - accuracy: 0.6239 - val_loss: 1.8866 - val_accuracy: 0.5950\n",
      "Epoch 24/30\n",
      "40/40 [==============================] - 204s 5s/step - loss: 1.5530 - accuracy: 0.6637 - val_loss: 1.8060 - val_accuracy: 0.6200\n",
      "Epoch 25/30\n",
      "40/40 [==============================] - 204s 5s/step - loss: 1.6524 - accuracy: 0.6450 - val_loss: 1.7798 - val_accuracy: 0.6200\n",
      "Epoch 26/30\n",
      "40/40 [==============================] - 196s 5s/step - loss: 1.7007 - accuracy: 0.6225 - val_loss: 1.6877 - val_accuracy: 0.6550\n",
      "Epoch 27/30\n",
      "40/40 [==============================] - 190s 5s/step - loss: 1.5840 - accuracy: 0.6538 - val_loss: 1.7758 - val_accuracy: 0.6050\n",
      "Epoch 28/30\n",
      "40/40 [==============================] - 191s 5s/step - loss: 1.6839 - accuracy: 0.6350 - val_loss: 1.8985 - val_accuracy: 0.5950\n",
      "Epoch 29/30\n",
      "40/40 [==============================] - 185s 5s/step - loss: 1.5699 - accuracy: 0.6587 - val_loss: 1.8991 - val_accuracy: 0.6250\n",
      "Epoch 30/30\n",
      "40/40 [==============================] - 178s 4s/step - loss: 1.6000 - accuracy: 0.6700 - val_loss: 1.5844 - val_accuracy: 0.6700\n",
      "Execution time:  7531.531050205231\n"
     ]
    }
   ],
   "source": [
    "initial_learning_rate = 0.0001 \n",
    "decay_steps = 1000 #40\n",
    "decay_rate = 0.9\n",
    "lr = keras.optimizers.schedules.ExponentialDecay(\n",
    "    initial_learning_rate, decay_steps, decay_rate, staircase=False, name=None\n",
    ")\n",
    "\n",
    "optimizer = keras.optimizers.Adam(learning_rate=lr, epsilon=0.1)\n",
    "#optimizer = keras.optimizers.SGD(learning_rate=0.005, momentum=0.2)\n",
    "model.compile(loss='categorical_crossentropy', optimizer=optimizer, metrics=[\"accuracy\"])\n",
    "\n",
    "# stepsPerEpoch = num_training_img/batch_size\n",
    "stepsPerEpoch = 800 / batch_size\n",
    "validationSteps = 200 / batch_size\n",
    "print(\"validationSteps: {}\".format(validationSteps))\n",
    "epochs = 30 #5\n",
    "start_time = time.time()\n",
    "history = model.fit(\n",
    "    train_generator,\n",
    "    steps_per_epoch=stepsPerEpoch,\n",
    "    epochs=epochs,\n",
    "    validation_data=validation_generator,\n",
    "    validation_steps=validationSteps,\n",
    "    #callbacks=[checkpoint]\n",
    ")\n",
    "print('Execution time: ', time.time() - start_time)"
   ]
  },
  {
   "cell_type": "markdown",
   "metadata": {},
   "source": [
    "## Evaluate model"
   ]
  },
  {
   "cell_type": "code",
   "execution_count": 9,
   "metadata": {
    "colab": {
     "base_uri": "https://localhost:8080/"
    },
    "executionInfo": {
     "elapsed": 2015009,
     "status": "ok",
     "timestamp": 1605790944779,
     "user": {
      "displayName": "Mu Siyi",
      "photoUrl": "https://lh3.googleusercontent.com/a-/AOh14Gj8QgmJnhwClZ56sAt7RQhY0GcJe4BfDK1dGxf4ZQ=s64",
      "userId": "04695566065545999051"
     },
     "user_tz": -480
    },
    "id": "8ViS6N1M7RWs",
    "outputId": "dd040cfa-bfaf-458a-d7fc-29f546d1c2d7"
   },
   "outputs": [
    {
     "name": "stdout",
     "output_type": "stream",
     "text": [
      "WARNING:tensorflow:From <ipython-input-9-d614414ef6f4>:7: Model.evaluate_generator (from tensorflow.python.keras.engine.training) is deprecated and will be removed in a future version.\n",
      "Instructions for updating:\n",
      "Please use Model.evaluate, which supports generators.\n",
      "[loss, acc] = [1.6652542352676392, 0.652430534362793]\n"
     ]
    }
   ],
   "source": [
    "best_model = model\n",
    "evaluator = best_model.evaluate_generator(generator=validation_generator)\n",
    "loss = evaluator[0]\n",
    "acc = evaluator[1]\n",
    "print(\"[loss, acc] = {}\".format(best_model.evaluate_generator(generator=test_generator)))\n"
   ]
  },
  {
   "cell_type": "markdown",
   "metadata": {},
   "source": [
    "## Plot accuracy and loss curves"
   ]
  },
  {
   "cell_type": "code",
   "execution_count": 10,
   "metadata": {
    "colab": {
     "base_uri": "https://localhost:8080/",
     "height": 573
    },
    "executionInfo": {
     "elapsed": 1203,
     "status": "ok",
     "timestamp": 1605790945951,
     "user": {
      "displayName": "Mu Siyi",
      "photoUrl": "https://lh3.googleusercontent.com/a-/AOh14Gj8QgmJnhwClZ56sAt7RQhY0GcJe4BfDK1dGxf4ZQ=s64",
      "userId": "04695566065545999051"
     },
     "user_tz": -480
    },
    "id": "zKBLH92V7TcV",
    "outputId": "39010683-5d4b-4e5d-f1e2-e77a9314ba5d"
   },
   "outputs": [
    {
     "data": {
      "image/png": "[encoded data removed]",
      "text/plain": [
       "<Figure size 432x288 with 1 Axes>"
      ]
     },
     "metadata": {
      "needs_background": "light",
      "tags": []
     },
     "output_type": "display_data"
    },
    {
     "data": {
      "image/png": "[encoded data removed]",
      "text/plain": [
       "<Figure size 432x288 with 1 Axes>"
      ]
     },
     "metadata": {
      "needs_background": "light",
      "tags": []
     },
     "output_type": "display_data"
    }
   ],
   "source": [
    "train_acc = history.history['accuracy']\n",
    "test_acc = history.history['val_accuracy']\n",
    "# Save the plot for accuracies\n",
    "plt.plot(range(1, len(train_acc) + 1), train_acc, label='Train')\n",
    "plt.plot(range(1, len(test_acc) + 1), test_acc, label='Validate')\n",
    "plt.title('Model Accuracy')\n",
    "plt.ylabel('accuracy')\n",
    "plt.xlabel('epoch')\n",
    "plt.legend()\n",
    "plt.show()\n",
    "\n",
    "train_loss = history.history['loss']\n",
    "test_loss = history.history['val_loss']\n",
    "# Save the plot for accuracies\n",
    "plt.plot(range(1, len(train_loss) + 1), train_loss, label='Train')\n",
    "plt.plot(range(1, len(test_loss) + 1), test_loss, label='Validate')\n",
    "plt.title('Model Loss')\n",
    "plt.ylabel('loss')\n",
    "plt.xlabel('epoch')\n",
    "plt.legend()\n",
    "plt.show()"
   ]
  }
 ],
 "metadata": {
  "accelerator": "GPU",
  "colab": {
   "authorship_tag": "ABX9TyMaNEX+QlvGLJV0KcjY+22z",
   "collapsed_sections": [],
   "name": "VGG19_MINC.ipynb",
   "provenance": []
  },
  "kernelspec": {
   "display_name": "Python 3",
   "language": "python",
   "name": "python3"
  },
  "language_info": {
   "codemirror_mode": {
    "name": "ipython",
    "version": 3
   },
   "file_extension": ".py",
   "mimetype": "text/x-python",
   "name": "python",
   "nbconvert_exporter": "python",
   "pygments_lexer": "ipython3",
   "version": "3.8.5"
  }
 },
 "nbformat": 4,
 "nbformat_minor": 1
}
