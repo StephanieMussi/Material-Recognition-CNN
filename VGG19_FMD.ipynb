{
 "cells": [
  {
   "cell_type": "markdown",
   "metadata": {},
   "source": [
    "# VGG19 model on Flickr Material Database"
   ]
  },
  {
   "cell_type": "code",
   "execution_count": 1,
   "metadata": {
    "executionInfo": {
     "elapsed": 2148,
     "status": "ok",
     "timestamp": 1605623669593,
     "user": {
      "displayName": "Mu Siyi",
      "photoUrl": "https://lh3.googleusercontent.com/a-/AOh14Gj8QgmJnhwClZ56sAt7RQhY0GcJe4BfDK1dGxf4ZQ=s64",
      "userId": "04695566065545999051"
     },
     "user_tz": -480
    },
    "id": "QK8kyT-7RTVM"
   },
   "outputs": [],
   "source": [
    "import keras\n",
    "import matplotlib.pyplot as plt\n",
    "from keras.preprocessing import image\n",
    "from tensorflow.keras import regularizers\n",
    "from keras.layers import GlobalAveragePooling2D, Dense, Dropout, Input\n",
    "from keras.applications.resnet import preprocess_input\n",
    "import tensorflow as tf\n",
    "from keras.callbacks import TensorBoard, ModelCheckpoint\n",
    "import time\n",
    "import os\n",
    "import sys"
   ]
  },
  {
   "cell_type": "code",
   "execution_count": 3,
   "metadata": {
    "colab": {
     "base_uri": "https://localhost:8080/"
    },
    "executionInfo": {
     "elapsed": 2734,
     "status": "ok",
     "timestamp": 1605623670188,
     "user": {
      "displayName": "Mu Siyi",
      "photoUrl": "https://lh3.googleusercontent.com/a-/AOh14Gj8QgmJnhwClZ56sAt7RQhY0GcJe4BfDK1dGxf4ZQ=s64",
      "userId": "04695566065545999051"
     },
     "user_tz": -480
    },
    "id": "H0RxgkH_Rhh-",
    "outputId": "f03f8b64-b88e-4e2a-e2d1-21aab8dc3c62"
   },
   "outputs": [
    {
     "name": "stdout",
     "output_type": "stream",
     "text": [
      "1 Physical GPUs, 1 Logical GPUs\n"
     ]
    }
   ],
   "source": [
    "gpus = tf.config.experimental.list_physical_devices('GPU')\n",
    "if gpus:\n",
    "    try:\n",
    "        # Currently, memory growth needs to be the same across GPUs\n",
    "        for gpu in gpus:\n",
    "            tf.config.experimental.set_memory_growth(gpu, True)\n",
    "        logical_gpus = tf.config.experimental.list_logical_devices('GPU')\n",
    "        print(len(gpus), \"Physical GPUs,\", len(logical_gpus), \"Logical GPUs\")\n",
    "    except RuntimeError as e:\n",
    "        # Memory growth must be set before GPUs have been initialized\n",
    "        print(e)"
   ]
  },
  {
   "cell_type": "markdown",
   "metadata": {},
   "source": [
    "## Read data\n",
    "Read the pre-split train data and test data"
   ]
  },
  {
   "cell_type": "code",
   "execution_count": 4,
   "metadata": {
    "executionInfo": {
     "elapsed": 3151,
     "status": "ok",
     "timestamp": 1605623670608,
     "user": {
      "displayName": "Mu Siyi",
      "photoUrl": "https://lh3.googleusercontent.com/a-/AOh14Gj8QgmJnhwClZ56sAt7RQhY0GcJe4BfDK1dGxf4ZQ=s64",
      "userId": "04695566065545999051"
     },
     "user_tz": -480
    },
    "id": "Ff03_GhCRjoy"
   },
   "outputs": [],
   "source": [
    "# Parse arguments\n",
    "dataset = 'FMD'\n",
    "split = 5\n",
    "n_classes = 10\n",
    "train_dir = 'DS_FMD/train'.format(dataset, split)\n",
    "test_dir = 'DS_FMD/test'.format(dataset, split)"
   ]
  },
  {
   "cell_type": "code",
   "execution_count": 5,
   "metadata": {
    "colab": {
     "base_uri": "https://localhost:8080/"
    },
    "executionInfo": {
     "elapsed": 3150,
     "status": "ok",
     "timestamp": 1605623670610,
     "user": {
      "displayName": "Mu Siyi",
      "photoUrl": "https://lh3.googleusercontent.com/a-/AOh14Gj8QgmJnhwClZ56sAt7RQhY0GcJe4BfDK1dGxf4ZQ=s64",
      "userId": "04695566065545999051"
     },
     "user_tz": -480
    },
    "id": "5YwUdnskSO6x",
    "outputId": "31e315f1-8031-4b56-8b52-88a66cfff14a"
   },
   "outputs": [
    {
     "name": "stdout",
     "output_type": "stream",
     "text": [
      "Found 800 images belonging to 10 classes.\n",
      "Found 200 images belonging to 10 classes.\n"
     ]
    }
   ],
   "source": [
    "# Read data\n",
    "############ Do some random image transformations to increase the number of training samples\n",
    "############ Note that we are scaling the image to make all the values between 0 and 1. That's how our pretrained weights have been done too\n",
    "############ Default batch size is 1 but you can reduce/increase it depending on how powerful your machine is. \n",
    "batch_size = 20\n",
    "img_width = 224\n",
    "img_height = 224\n",
    "# Data augmentation\n",
    "train_datagen = image.ImageDataGenerator(\n",
    "    preprocessing_function = preprocess_input, #rescale=1. / 255,\n",
    "    shear_range=0.2,\n",
    "    zoom_range=0.2,\n",
    "    horizontal_flip=True)\n",
    "test_datagen = image.ImageDataGenerator(preprocessing_function = preprocess_input)#rescale=1. / 255)\n",
    "train_generator = train_datagen.flow_from_directory(\n",
    "    train_dir,\n",
    "    target_size=(img_width, img_height),\n",
    "    batch_size=batch_size,\n",
    "    class_mode='categorical')\n",
    "validation_generator = test_datagen.flow_from_directory(\n",
    "    test_dir,\n",
    "    target_size=(img_width, img_height),\n",
    "    batch_size=batch_size,\n",
    "    class_mode='categorical')\n"
   ]
  },
  {
   "cell_type": "markdown",
   "metadata": {},
   "source": [
    "## Construct the model\n",
    "Import VGG19 model, remove the pre-trained output layer, and add on the output layer to fit the FMD dataset."
   ]
  },
  {
   "cell_type": "code",
   "execution_count": 6,
   "metadata": {
    "colab": {
     "base_uri": "https://localhost:8080/"
    },
    "executionInfo": {
     "elapsed": 4804,
     "status": "ok",
     "timestamp": 1605623672267,
     "user": {
      "displayName": "Mu Siyi",
      "photoUrl": "https://lh3.googleusercontent.com/a-/AOh14Gj8QgmJnhwClZ56sAt7RQhY0GcJe4BfDK1dGxf4ZQ=s64",
      "userId": "04695566065545999051"
     },
     "user_tz": -480
    },
    "id": "HD6kgaAwSXg_",
    "outputId": "a34a6907-30ba-4d4e-9a0a-7654968d1d79"
   },
   "outputs": [
    {
     "name": "stdout",
     "output_type": "stream",
     "text": [
      "<VGG19 model>\n"
     ]
    }
   ],
   "source": [
    "# Build Fine-tune network architecture\n",
    "# Get Image-Net pre-trained model\n",
    "vgg19_model = keras.applications.VGG19(input_tensor=Input(shape=(224, 224, 3))) #vgg19.\n",
    "print(\"<VGG19 model>\")\n",
    "model = keras.Sequential()\n",
    "# Remove 1000-classes output layer (last layer)\n",
    "name_last_layer = str(vgg19_model.layers[-1])\n",
    "\n",
    "for layer in vgg19_model.layers:\n",
    "    if str(layer) != name_last_layer:\n",
    "        model.add(layer)\n"
   ]
  },
  {
   "cell_type": "code",
   "execution_count": 7,
   "metadata": {
    "colab": {
     "base_uri": "https://localhost:8080/"
    },
    "executionInfo": {
     "elapsed": 4801,
     "status": "ok",
     "timestamp": 1605623672268,
     "user": {
      "displayName": "Mu Siyi",
      "photoUrl": "https://lh3.googleusercontent.com/a-/AOh14Gj8QgmJnhwClZ56sAt7RQhY0GcJe4BfDK1dGxf4ZQ=s64",
      "userId": "04695566065545999051"
     },
     "user_tz": -480
    },
    "id": "5hzm4B1iSibh",
    "outputId": "8f982d4f-50d9-47cc-d8a5-f1a9a8aecc2b"
   },
   "outputs": [
    {
     "name": "stdout",
     "output_type": "stream",
     "text": [
      "<Fine-tuned model>\n",
      "Model: \"sequential\"\n",
      "_________________________________________________________________\n",
      "Layer (type)                 Output Shape              Param #   \n",
      "=================================================================\n",
      "block1_conv1 (Conv2D)        (None, 224, 224, 64)      1792      \n",
      "_________________________________________________________________\n",
      "block1_conv2 (Conv2D)        (None, 224, 224, 64)      36928     \n",
      "_________________________________________________________________\n",
      "block1_pool (MaxPooling2D)   (None, 112, 112, 64)      0         \n",
      "_________________________________________________________________\n",
      "block2_conv1 (Conv2D)        (None, 112, 112, 128)     73856     \n",
      "_________________________________________________________________\n",
      "block2_conv2 (Conv2D)        (None, 112, 112, 128)     147584    \n",
      "_________________________________________________________________\n",
      "block2_pool (MaxPooling2D)   (None, 56, 56, 128)       0         \n",
      "_________________________________________________________________\n",
      "block3_conv1 (Conv2D)        (None, 56, 56, 256)       295168    \n",
      "_________________________________________________________________\n",
      "block3_conv2 (Conv2D)        (None, 56, 56, 256)       590080    \n",
      "_________________________________________________________________\n",
      "block3_conv3 (Conv2D)        (None, 56, 56, 256)       590080    \n",
      "_________________________________________________________________\n",
      "block3_conv4 (Conv2D)        (None, 56, 56, 256)       590080    \n",
      "_________________________________________________________________\n",
      "block3_pool (MaxPooling2D)   (None, 28, 28, 256)       0         \n",
      "_________________________________________________________________\n",
      "block4_conv1 (Conv2D)        (None, 28, 28, 512)       1180160   \n",
      "_________________________________________________________________\n",
      "block4_conv2 (Conv2D)        (None, 28, 28, 512)       2359808   \n",
      "_________________________________________________________________\n",
      "block4_conv3 (Conv2D)        (None, 28, 28, 512)       2359808   \n",
      "_________________________________________________________________\n",
      "block4_conv4 (Conv2D)        (None, 28, 28, 512)       2359808   \n",
      "_________________________________________________________________\n",
      "block4_pool (MaxPooling2D)   (None, 14, 14, 512)       0         \n",
      "_________________________________________________________________\n",
      "block5_conv1 (Conv2D)        (None, 14, 14, 512)       2359808   \n",
      "_________________________________________________________________\n",
      "block5_conv2 (Conv2D)        (None, 14, 14, 512)       2359808   \n",
      "_________________________________________________________________\n",
      "block5_conv3 (Conv2D)        (None, 14, 14, 512)       2359808   \n",
      "_________________________________________________________________\n",
      "block5_conv4 (Conv2D)        (None, 14, 14, 512)       2359808   \n",
      "_________________________________________________________________\n",
      "block5_pool (MaxPooling2D)   (None, 7, 7, 512)         0         \n",
      "_________________________________________________________________\n",
      "flatten (Flatten)            (None, 25088)             0         \n",
      "_________________________________________________________________\n",
      "fc1 (Dense)                  (None, 4096)              102764544 \n",
      "_________________________________________________________________\n",
      "fc2 (Dense)                  (None, 4096)              16781312  \n",
      "_________________________________________________________________\n",
      "batch_normalization (BatchNo (None, 4096)              16384     \n",
      "_________________________________________________________________\n",
      "dense (Dense)                (None, 10)                40970     \n",
      "=================================================================\n",
      "Total params: 139,627,594\n",
      "Trainable params: 139,619,402\n",
      "Non-trainable params: 8,192\n",
      "_________________________________________________________________\n"
     ]
    }
   ],
   "source": [
    "# Add n_classes output layer for our dataset\n",
    "model.add(keras.layers.BatchNormalization())\n",
    "model.add(keras.layers.Dense(n_classes, activation='softmax', kernel_regularizer=regularizers.l2(0.01),\n",
    "          bias_regularizer=regularizers.l2(0.01)))\n",
    "\n",
    "print(\"<Fine-tuned model>\")\n",
    "model.summary()"
   ]
  },
  {
   "cell_type": "code",
   "execution_count": 8,
   "metadata": {
    "colab": {
     "base_uri": "https://localhost:8080/",
     "height": 52
    },
    "executionInfo": {
     "elapsed": 4797,
     "status": "ok",
     "timestamp": 1605623672268,
     "user": {
      "displayName": "Mu Siyi",
      "photoUrl": "https://lh3.googleusercontent.com/a-/AOh14Gj8QgmJnhwClZ56sAt7RQhY0GcJe4BfDK1dGxf4ZQ=s64",
      "userId": "04695566065545999051"
     },
     "user_tz": -480
    },
    "id": "qFTQyYYvSu2Q",
    "outputId": "356dec4e-1bee-4801-f72f-d895903b9d90"
   },
   "outputs": [
    {
     "data": {
      "application/vnd.google.colaboratory.intrinsic+json": {
       "type": "string"
      },
      "text/plain": [
       "\"\\nmodel_folder = '/content/drive/My Drive/tensorflow/models'\\nfilepath = '{}/fine_tuned_model_{}.h5'.format(model_folder, split)\\nif not os.path.exists(model_folder):\\n    os.makedirs(model_folder)\\n\""
      ]
     },
     "execution_count": 8,
     "metadata": {
      "tags": []
     },
     "output_type": "execute_result"
    }
   ],
   "source": [
    "model_folder = 'DS_FMD_classification/models'\n",
    "filepath = '{}/fine_tuned_model_{}.h5'.format(model_folder, split)\n",
    "if not os.path.exists(model_folder):\n",
    "    os.makedirs(model_folder)\n"
   ]
  },
  {
   "cell_type": "markdown",
   "metadata": {},
   "source": [
    "## Train model\n",
    "Adam optimizer with learning rate decay is employed. The model is trained for 30 epochs as it converges fast."
   ]
  },
  {
   "cell_type": "code",
   "execution_count": 9,
   "metadata": {
    "executionInfo": {
     "elapsed": 4794,
     "status": "ok",
     "timestamp": 1605623672269,
     "user": {
      "displayName": "Mu Siyi",
      "photoUrl": "https://lh3.googleusercontent.com/a-/AOh14Gj8QgmJnhwClZ56sAt7RQhY0GcJe4BfDK1dGxf4ZQ=s64",
      "userId": "04695566065545999051"
     },
     "user_tz": -480
    },
    "id": "wgb6kqp5TMJQ"
   },
   "outputs": [],
   "source": [
    "# Config model and train\n",
    "\n",
    "initial_learning_rate = 0.0001\n",
    "decay_steps = 1000\n",
    "decay_rate = 0.9\n",
    "lr = keras.optimizers.schedules.ExponentialDecay(\n",
    "    initial_learning_rate, decay_steps, decay_rate, staircase=False, name=None\n",
    ")\n",
    "\n",
    "optimizer = keras.optimizers.Adam(learning_rate=lr, epsilon=0.1)\n",
    "model.compile(loss=\"categorical_crossentropy\", optimizer=optimizer, metrics=[\"accuracy\"])"
   ]
  },
  {
   "cell_type": "code",
   "execution_count": 10,
   "metadata": {
    "colab": {
     "base_uri": "https://localhost:8080/"
    },
    "executionInfo": {
     "elapsed": 568869,
     "status": "ok",
     "timestamp": 1605624236347,
     "user": {
      "displayName": "Mu Siyi",
      "photoUrl": "https://lh3.googleusercontent.com/a-/AOh14Gj8QgmJnhwClZ56sAt7RQhY0GcJe4BfDK1dGxf4ZQ=s64",
      "userId": "04695566065545999051"
     },
     "user_tz": -480
    },
    "id": "fBvsDUtNTXZw",
    "outputId": "3649fa2b-0b0b-40d6-d88c-b8b63f1f78d3"
   },
   "outputs": [
    {
     "name": "stdout",
     "output_type": "stream",
     "text": [
      "validationSteps: 10.0\n",
      "WARNING:tensorflow:From <ipython-input-10-b3b56e7df1a1>:15: Model.fit_generator (from tensorflow.python.keras.engine.training) is deprecated and will be removed in a future version.\n",
      "Instructions for updating:\n",
      "Please use Model.fit, which supports generators.\n",
      "Epoch 1/30\n",
      " 2/40 [>.............................] - ETA: 7s - loss: 2.8824 - accuracy: 0.1500WARNING:tensorflow:Callbacks method `on_train_batch_end` is slow compared to the batch time (batch time: 0.1335s vs `on_train_batch_end` time: 0.2704s). Check your callbacks.\n",
      "40/40 [==============================] - 18s 458ms/step - loss: 3.0194 - accuracy: 0.1425 - val_loss: 2.8393 - val_accuracy: 0.2400\n",
      "Epoch 2/30\n",
      "40/40 [==============================] - 19s 464ms/step - loss: 2.1820 - accuracy: 0.3262 - val_loss: 2.1214 - val_accuracy: 0.4250\n",
      "Epoch 3/30\n",
      "40/40 [==============================] - 18s 459ms/step - loss: 1.5293 - accuracy: 0.5738 - val_loss: 1.7309 - val_accuracy: 0.5500\n",
      "Epoch 4/30\n",
      "40/40 [==============================] - 18s 455ms/step - loss: 1.1404 - accuracy: 0.7225 - val_loss: 1.5362 - val_accuracy: 0.6100\n",
      "Epoch 5/30\n",
      "40/40 [==============================] - 18s 451ms/step - loss: 0.8947 - accuracy: 0.7850 - val_loss: 1.3887 - val_accuracy: 0.6700\n",
      "Epoch 6/30\n",
      "40/40 [==============================] - 18s 454ms/step - loss: 0.7058 - accuracy: 0.8600 - val_loss: 1.3564 - val_accuracy: 0.6800\n",
      "Epoch 7/30\n",
      "40/40 [==============================] - 18s 455ms/step - loss: 0.5819 - accuracy: 0.9013 - val_loss: 1.2673 - val_accuracy: 0.6900\n",
      "Epoch 8/30\n",
      "40/40 [==============================] - 18s 455ms/step - loss: 0.5176 - accuracy: 0.9250 - val_loss: 1.2765 - val_accuracy: 0.6950\n",
      "Epoch 9/30\n",
      "40/40 [==============================] - 18s 457ms/step - loss: 0.4704 - accuracy: 0.9488 - val_loss: 1.2275 - val_accuracy: 0.7150\n",
      "Epoch 10/30\n",
      "40/40 [==============================] - 18s 453ms/step - loss: 0.3966 - accuracy: 0.9663 - val_loss: 1.2656 - val_accuracy: 0.7050\n",
      "Epoch 11/30\n",
      "40/40 [==============================] - 18s 454ms/step - loss: 0.3723 - accuracy: 0.9725 - val_loss: 1.2089 - val_accuracy: 0.6950\n",
      "Epoch 12/30\n",
      "40/40 [==============================] - 18s 455ms/step - loss: 0.3490 - accuracy: 0.9737 - val_loss: 1.1914 - val_accuracy: 0.7200\n",
      "Epoch 13/30\n",
      "40/40 [==============================] - 18s 455ms/step - loss: 0.3140 - accuracy: 0.9887 - val_loss: 1.2197 - val_accuracy: 0.7150\n",
      "Epoch 14/30\n",
      "40/40 [==============================] - 18s 454ms/step - loss: 0.2977 - accuracy: 0.9875 - val_loss: 1.1992 - val_accuracy: 0.7150\n",
      "Epoch 15/30\n",
      "40/40 [==============================] - 18s 453ms/step - loss: 0.2838 - accuracy: 0.9900 - val_loss: 1.2162 - val_accuracy: 0.7200\n",
      "Epoch 16/30\n",
      "40/40 [==============================] - 18s 454ms/step - loss: 0.2878 - accuracy: 0.9862 - val_loss: 1.1774 - val_accuracy: 0.7250\n",
      "Epoch 17/30\n",
      "40/40 [==============================] - 18s 455ms/step - loss: 0.2753 - accuracy: 0.9937 - val_loss: 1.2088 - val_accuracy: 0.7250\n",
      "Epoch 18/30\n",
      "40/40 [==============================] - 18s 453ms/step - loss: 0.2684 - accuracy: 0.9950 - val_loss: 1.1864 - val_accuracy: 0.7500\n",
      "Epoch 19/30\n",
      "40/40 [==============================] - 18s 453ms/step - loss: 0.2513 - accuracy: 0.9962 - val_loss: 1.1779 - val_accuracy: 0.7450\n",
      "Epoch 20/30\n",
      "40/40 [==============================] - 18s 453ms/step - loss: 0.2535 - accuracy: 0.9962 - val_loss: 1.1804 - val_accuracy: 0.7400\n",
      "Epoch 21/30\n",
      "40/40 [==============================] - 18s 454ms/step - loss: 0.2482 - accuracy: 0.9962 - val_loss: 1.1556 - val_accuracy: 0.7550\n",
      "Epoch 22/30\n",
      "40/40 [==============================] - 18s 454ms/step - loss: 0.2382 - accuracy: 0.9975 - val_loss: 1.1639 - val_accuracy: 0.7650\n",
      "Epoch 23/30\n",
      "40/40 [==============================] - 18s 453ms/step - loss: 0.2339 - accuracy: 1.0000 - val_loss: 1.1973 - val_accuracy: 0.7750\n",
      "Epoch 24/30\n",
      "40/40 [==============================] - 18s 454ms/step - loss: 0.2299 - accuracy: 0.9987 - val_loss: 1.1776 - val_accuracy: 0.7500\n",
      "Epoch 25/30\n",
      "40/40 [==============================] - 18s 455ms/step - loss: 0.2304 - accuracy: 0.9987 - val_loss: 1.1796 - val_accuracy: 0.7500\n",
      "Epoch 26/30\n",
      "40/40 [==============================] - 18s 460ms/step - loss: 0.2240 - accuracy: 1.0000 - val_loss: 1.1685 - val_accuracy: 0.7700\n",
      "Epoch 27/30\n",
      "40/40 [==============================] - 18s 454ms/step - loss: 0.2274 - accuracy: 1.0000 - val_loss: 1.1705 - val_accuracy: 0.7750\n",
      "Epoch 28/30\n",
      "40/40 [==============================] - 18s 452ms/step - loss: 0.2274 - accuracy: 0.9987 - val_loss: 1.1484 - val_accuracy: 0.7850\n",
      "Epoch 29/30\n",
      "40/40 [==============================] - 18s 451ms/step - loss: 0.2240 - accuracy: 0.9987 - val_loss: 1.1497 - val_accuracy: 0.7850\n",
      "Epoch 30/30\n",
      "40/40 [==============================] - 18s 453ms/step - loss: 0.2192 - accuracy: 0.9987 - val_loss: 1.1720 - val_accuracy: 0.7850\n",
      "Execution time:  563.6062643527985\n"
     ]
    }
   ],
   "source": [
    "# num_training_img = 24954\n",
    "# num_validation_img = 9151\n",
    "\n",
    "# stepsPerEpoch = num_training_img/batch_size\n",
    "stepsPerEpoch = 800 / batch_size\n",
    "validationSteps = 200 / batch_size\n",
    "print(\"validationSteps: {}\".format(validationSteps))\n",
    "epochs = 30 #200\n",
    "start_time = time.time()\n",
    "history = model.fit_generator(\n",
    "    train_generator,\n",
    "    steps_per_epoch=stepsPerEpoch,\n",
    "    epochs=epochs,\n",
    "    validation_data=validation_generator,\n",
    "    validation_steps=validationSteps,\n",
    ")\n",
    "print('Execution time: ', time.time() - start_time)"
   ]
  },
  {
   "cell_type": "markdown",
   "metadata": {},
   "source": [
    "## Evaluate model"
   ]
  },
  {
   "cell_type": "code",
   "execution_count": 11,
   "metadata": {
    "colab": {
     "base_uri": "https://localhost:8080/"
    },
    "executionInfo": {
     "elapsed": 571826,
     "status": "ok",
     "timestamp": 1605624239308,
     "user": {
      "displayName": "Mu Siyi",
      "photoUrl": "https://lh3.googleusercontent.com/a-/AOh14Gj8QgmJnhwClZ56sAt7RQhY0GcJe4BfDK1dGxf4ZQ=s64",
      "userId": "04695566065545999051"
     },
     "user_tz": -480
    },
    "id": "Lk2qpg8_TbdV",
    "outputId": "227b5349-431f-4f0a-e97e-b2c2c8338078"
   },
   "outputs": [
    {
     "name": "stdout",
     "output_type": "stream",
     "text": [
      "WARNING:tensorflow:From <ipython-input-11-616c260a2ddd>:6: Model.evaluate_generator (from tensorflow.python.keras.engine.training) is deprecated and will be removed in a future version.\n",
      "Instructions for updating:\n",
      "Please use Model.evaluate, which supports generators.\n",
      "[loss, acc] = [1.1719878911972046, 0.7850000262260437]\n"
     ]
    }
   ],
   "source": [
    "result_folder = \"DS_FMD_classification/result/{}\".format(dataset)\n",
    "if not os.path.exists(result_folder):\n",
    "    os.makedirs(result_folder)\n",
    "accuracy_file = \"{}/acc.csv\".format(result_folder)\n",
    "\n",
    "evaluator = model.evaluate_generator(generator=validation_generator)\n",
    "loss = evaluator[0]\n",
    "acc = evaluator[1]\n",
    "\n",
    "with open(accuracy_file, \"a\") as fw:\n",
    "    fw.write(\"{}, {}, {}\\n\".format(split, loss, acc))\n",
    "\n",
    "print(\"[loss, acc] = {}\".format(model.evaluate_generator(generator=validation_generator)))"
   ]
  },
  {
   "cell_type": "markdown",
   "metadata": {},
   "source": [
    "## Plot accuracy and loss curves"
   ]
  },
  {
   "cell_type": "code",
   "execution_count": 12,
   "metadata": {
    "colab": {
     "base_uri": "https://localhost:8080/",
     "height": 295
    },
    "executionInfo": {
     "elapsed": 571822,
     "status": "ok",
     "timestamp": 1605624239309,
     "user": {
      "displayName": "Mu Siyi",
      "photoUrl": "https://lh3.googleusercontent.com/a-/AOh14Gj8QgmJnhwClZ56sAt7RQhY0GcJe4BfDK1dGxf4ZQ=s64",
      "userId": "04695566065545999051"
     },
     "user_tz": -480
    },
    "id": "rc3c9ZKPTkLh",
    "outputId": "302f7eed-9b84-4d9b-c238-1e6037fb34d7"
   },
   "outputs": [
    {
     "data": {
      "image/png": "[encoded data removed]",
      "text/plain": [
       "<Figure size 432x288 with 1 Axes>"
      ]
     },
     "metadata": {
      "needs_background": "light",
      "tags": []
     },
     "output_type": "display_data"
    }
   ],
   "source": [
    "train_acc = history.history['accuracy']\n",
    "test_acc = history.history['val_accuracy']\n",
    "# Save the plot for accuracies\n",
    "plt.plot(range(1, len(train_acc) + 1), train_acc, label='Train')\n",
    "plt.plot(range(1, len(test_acc) + 1), test_acc, label='Test')\n",
    "plt.title('Model Accuracy')\n",
    "plt.ylabel('accuracy')\n",
    "plt.xlabel('epoch')\n",
    "plt.legend()\n",
    "plt.show()"
   ]
  },
  {
   "cell_type": "code",
   "execution_count": 13,
   "metadata": {
    "colab": {
     "base_uri": "https://localhost:8080/",
     "height": 295
    },
    "executionInfo": {
     "elapsed": 571819,
     "status": "ok",
     "timestamp": 1605624239310,
     "user": {
      "displayName": "Mu Siyi",
      "photoUrl": "https://lh3.googleusercontent.com/a-/AOh14Gj8QgmJnhwClZ56sAt7RQhY0GcJe4BfDK1dGxf4ZQ=s64",
      "userId": "04695566065545999051"
     },
     "user_tz": -480
    },
    "id": "Z26qQIsXT1wS",
    "outputId": "77fe98b6-01fa-4f1b-b4ad-7c1b169069a0",
    "scrolled": true
   },
   "outputs": [
    {
     "data": {
      "image/png": "[encoded data removed]",
      "text/plain": [
       "<Figure size 432x288 with 1 Axes>"
      ]
     },
     "metadata": {
      "needs_background": "light",
      "tags": []
     },
     "output_type": "display_data"
    }
   ],
   "source": [
    "train_loss = history.history['loss']\n",
    "test_loss = history.history['val_loss']\n",
    "# Save the plot for accuracies\n",
    "plt.plot(range(1, len(train_loss) + 1), train_loss, label='Train')\n",
    "plt.plot(range(1, len(test_loss) + 1), test_loss, label='Test')\n",
    "plt.title('Model Loss')\n",
    "plt.ylabel('loss')\n",
    "plt.xlabel('epoch')\n",
    "plt.legend()\n",
    "plt.show()\n"
   ]
  }
 ],
 "metadata": {
  "accelerator": "GPU",
  "colab": {
   "authorship_tag": "ABX9TyNcYUHsQyWLz3Hf9Hea21CK",
   "collapsed_sections": [],
   "name": "VGG19.ipynb",
   "provenance": []
  },
  "kernelspec": {
   "display_name": "Python 3",
   "language": "python",
   "name": "python3"
  },
  "language_info": {
   "codemirror_mode": {
    "name": "ipython",
    "version": 3
   },
   "file_extension": ".py",
   "mimetype": "text/x-python",
   "name": "python",
   "nbconvert_exporter": "python",
   "pygments_lexer": "ipython3",
   "version": "3.8.5"
  }
 },
 "nbformat": 4,
 "nbformat_minor": 1
}
